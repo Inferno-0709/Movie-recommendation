{
  "nbformat": 4,
  "nbformat_minor": 0,
  "metadata": {
    "colab": {
      "provenance": []
    },
    "kernelspec": {
      "name": "python3",
      "display_name": "Python 3"
    },
    "language_info": {
      "name": "python"
    }
  },
  "cells": [
    {
      "cell_type": "code",
      "execution_count": null,
      "metadata": {
        "id": "KoUvYLCXpxi_"
      },
      "outputs": [],
      "source": [
        "import numpy as np\n",
        "import pandas as pd\n",
        "import matplotlib.pyplot as plt\n",
        "import seaborn as sns\n",
        "import difflib\n",
        "from sklearn.feature_extraction.text import TfidfVectorizer\n",
        "from sklearn.metrics.pairwise import cosine_similarity"
      ]
    },
    {
      "cell_type": "code",
      "source": [
        "movies_data = pd.read_csv('/content/movies.csv')"
      ],
      "metadata": {
        "id": "MrpWz0Upr_mD"
      },
      "execution_count": null,
      "outputs": []
    },
    {
      "cell_type": "code",
      "source": [
        "movies_data.head()"
      ],
      "metadata": {
        "colab": {
          "base_uri": "https://localhost:8080/",
          "height": 793
        },
        "id": "pAfCx89usMyW",
        "outputId": "df1b6ea8-26fb-4433-cf1a-b33362e3230a"
      },
      "execution_count": null,
      "outputs": [
        {
          "output_type": "execute_result",
          "data": {
            "text/plain": [
              "   index     budget                                    genres  \\\n",
              "0      0  237000000  Action Adventure Fantasy Science Fiction   \n",
              "1      1  300000000                  Adventure Fantasy Action   \n",
              "2      2  245000000                    Action Adventure Crime   \n",
              "3      3  250000000               Action Crime Drama Thriller   \n",
              "4      4  260000000          Action Adventure Science Fiction   \n",
              "\n",
              "                                       homepage      id  \\\n",
              "0                   http://www.avatarmovie.com/   19995   \n",
              "1  http://disney.go.com/disneypictures/pirates/     285   \n",
              "2   http://www.sonypictures.com/movies/spectre/  206647   \n",
              "3            http://www.thedarkknightrises.com/   49026   \n",
              "4          http://movies.disney.com/john-carter   49529   \n",
              "\n",
              "                                            keywords original_language  \\\n",
              "0  culture clash future space war space colony so...                en   \n",
              "1  ocean drug abuse exotic island east india trad...                en   \n",
              "2         spy based on novel secret agent sequel mi6                en   \n",
              "3  dc comics crime fighter terrorist secret ident...                en   \n",
              "4  based on novel mars medallion space travel pri...                en   \n",
              "\n",
              "                             original_title  \\\n",
              "0                                    Avatar   \n",
              "1  Pirates of the Caribbean: At World's End   \n",
              "2                                   Spectre   \n",
              "3                     The Dark Knight Rises   \n",
              "4                               John Carter   \n",
              "\n",
              "                                            overview  popularity  ... runtime  \\\n",
              "0  In the 22nd century, a paraplegic Marine is di...  150.437577  ...     162   \n",
              "1  Captain Barbossa, long believed to be dead, ha...  139.082615  ...     169   \n",
              "2  A cryptic message from Bond’s past sends him o...  107.376788  ...     148   \n",
              "3  Following the death of District Attorney Harve...  112.312950  ...     165   \n",
              "4  John Carter is a war-weary, former military ca...   43.926995  ...     132   \n",
              "\n",
              "                                    spoken_languages    status  \\\n",
              "0  [{\"iso_639_1\": \"en\", \"name\": \"English\"}, {\"iso...  Released   \n",
              "1           [{\"iso_639_1\": \"en\", \"name\": \"English\"}]  Released   \n",
              "2  [{\"iso_639_1\": \"fr\", \"name\": \"Fran\\u00e7ais\"},...  Released   \n",
              "3           [{\"iso_639_1\": \"en\", \"name\": \"English\"}]  Released   \n",
              "4           [{\"iso_639_1\": \"en\", \"name\": \"English\"}]  Released   \n",
              "\n",
              "                                          tagline  \\\n",
              "0                     Enter the World of Pandora.   \n",
              "1  At the end of the world, the adventure begins.   \n",
              "2                           A Plan No One Escapes   \n",
              "3                                 The Legend Ends   \n",
              "4            Lost in our world, found in another.   \n",
              "\n",
              "                                      title vote_average vote_count  \\\n",
              "0                                    Avatar          7.2      11800   \n",
              "1  Pirates of the Caribbean: At World's End          6.9       4500   \n",
              "2                                   Spectre          6.3       4466   \n",
              "3                     The Dark Knight Rises          7.6       9106   \n",
              "4                               John Carter          6.1       2124   \n",
              "\n",
              "                                                cast  \\\n",
              "0  Sam Worthington Zoe Saldana Sigourney Weaver S...   \n",
              "1  Johnny Depp Orlando Bloom Keira Knightley Stel...   \n",
              "2  Daniel Craig Christoph Waltz L\\u00e9a Seydoux ...   \n",
              "3  Christian Bale Michael Caine Gary Oldman Anne ...   \n",
              "4  Taylor Kitsch Lynn Collins Samantha Morton Wil...   \n",
              "\n",
              "                                                crew           director  \n",
              "0  [{'name': 'Stephen E. Rivkin', 'gender': 0, 'd...      James Cameron  \n",
              "1  [{'name': 'Dariusz Wolski', 'gender': 2, 'depa...     Gore Verbinski  \n",
              "2  [{'name': 'Thomas Newman', 'gender': 2, 'depar...         Sam Mendes  \n",
              "3  [{'name': 'Hans Zimmer', 'gender': 2, 'departm...  Christopher Nolan  \n",
              "4  [{'name': 'Andrew Stanton', 'gender': 2, 'depa...     Andrew Stanton  \n",
              "\n",
              "[5 rows x 24 columns]"
            ],
            "text/html": [
              "\n",
              "  <div id=\"df-f6fa8c16-65f8-4739-a229-5648710c0a90\" class=\"colab-df-container\">\n",
              "    <div>\n",
              "<style scoped>\n",
              "    .dataframe tbody tr th:only-of-type {\n",
              "        vertical-align: middle;\n",
              "    }\n",
              "\n",
              "    .dataframe tbody tr th {\n",
              "        vertical-align: top;\n",
              "    }\n",
              "\n",
              "    .dataframe thead th {\n",
              "        text-align: right;\n",
              "    }\n",
              "</style>\n",
              "<table border=\"1\" class=\"dataframe\">\n",
              "  <thead>\n",
              "    <tr style=\"text-align: right;\">\n",
              "      <th></th>\n",
              "      <th>index</th>\n",
              "      <th>budget</th>\n",
              "      <th>genres</th>\n",
              "      <th>homepage</th>\n",
              "      <th>id</th>\n",
              "      <th>keywords</th>\n",
              "      <th>original_language</th>\n",
              "      <th>original_title</th>\n",
              "      <th>overview</th>\n",
              "      <th>popularity</th>\n",
              "      <th>...</th>\n",
              "      <th>runtime</th>\n",
              "      <th>spoken_languages</th>\n",
              "      <th>status</th>\n",
              "      <th>tagline</th>\n",
              "      <th>title</th>\n",
              "      <th>vote_average</th>\n",
              "      <th>vote_count</th>\n",
              "      <th>cast</th>\n",
              "      <th>crew</th>\n",
              "      <th>director</th>\n",
              "    </tr>\n",
              "  </thead>\n",
              "  <tbody>\n",
              "    <tr>\n",
              "      <th>0</th>\n",
              "      <td>0</td>\n",
              "      <td>237000000</td>\n",
              "      <td>Action Adventure Fantasy Science Fiction</td>\n",
              "      <td>http://www.avatarmovie.com/</td>\n",
              "      <td>19995</td>\n",
              "      <td>culture clash future space war space colony so...</td>\n",
              "      <td>en</td>\n",
              "      <td>Avatar</td>\n",
              "      <td>In the 22nd century, a paraplegic Marine is di...</td>\n",
              "      <td>150.437577</td>\n",
              "      <td>...</td>\n",
              "      <td>162</td>\n",
              "      <td>[{\"iso_639_1\": \"en\", \"name\": \"English\"}, {\"iso...</td>\n",
              "      <td>Released</td>\n",
              "      <td>Enter the World of Pandora.</td>\n",
              "      <td>Avatar</td>\n",
              "      <td>7.2</td>\n",
              "      <td>11800</td>\n",
              "      <td>Sam Worthington Zoe Saldana Sigourney Weaver S...</td>\n",
              "      <td>[{'name': 'Stephen E. Rivkin', 'gender': 0, 'd...</td>\n",
              "      <td>James Cameron</td>\n",
              "    </tr>\n",
              "    <tr>\n",
              "      <th>1</th>\n",
              "      <td>1</td>\n",
              "      <td>300000000</td>\n",
              "      <td>Adventure Fantasy Action</td>\n",
              "      <td>http://disney.go.com/disneypictures/pirates/</td>\n",
              "      <td>285</td>\n",
              "      <td>ocean drug abuse exotic island east india trad...</td>\n",
              "      <td>en</td>\n",
              "      <td>Pirates of the Caribbean: At World's End</td>\n",
              "      <td>Captain Barbossa, long believed to be dead, ha...</td>\n",
              "      <td>139.082615</td>\n",
              "      <td>...</td>\n",
              "      <td>169</td>\n",
              "      <td>[{\"iso_639_1\": \"en\", \"name\": \"English\"}]</td>\n",
              "      <td>Released</td>\n",
              "      <td>At the end of the world, the adventure begins.</td>\n",
              "      <td>Pirates of the Caribbean: At World's End</td>\n",
              "      <td>6.9</td>\n",
              "      <td>4500</td>\n",
              "      <td>Johnny Depp Orlando Bloom Keira Knightley Stel...</td>\n",
              "      <td>[{'name': 'Dariusz Wolski', 'gender': 2, 'depa...</td>\n",
              "      <td>Gore Verbinski</td>\n",
              "    </tr>\n",
              "    <tr>\n",
              "      <th>2</th>\n",
              "      <td>2</td>\n",
              "      <td>245000000</td>\n",
              "      <td>Action Adventure Crime</td>\n",
              "      <td>http://www.sonypictures.com/movies/spectre/</td>\n",
              "      <td>206647</td>\n",
              "      <td>spy based on novel secret agent sequel mi6</td>\n",
              "      <td>en</td>\n",
              "      <td>Spectre</td>\n",
              "      <td>A cryptic message from Bond’s past sends him o...</td>\n",
              "      <td>107.376788</td>\n",
              "      <td>...</td>\n",
              "      <td>148</td>\n",
              "      <td>[{\"iso_639_1\": \"fr\", \"name\": \"Fran\\u00e7ais\"},...</td>\n",
              "      <td>Released</td>\n",
              "      <td>A Plan No One Escapes</td>\n",
              "      <td>Spectre</td>\n",
              "      <td>6.3</td>\n",
              "      <td>4466</td>\n",
              "      <td>Daniel Craig Christoph Waltz L\\u00e9a Seydoux ...</td>\n",
              "      <td>[{'name': 'Thomas Newman', 'gender': 2, 'depar...</td>\n",
              "      <td>Sam Mendes</td>\n",
              "    </tr>\n",
              "    <tr>\n",
              "      <th>3</th>\n",
              "      <td>3</td>\n",
              "      <td>250000000</td>\n",
              "      <td>Action Crime Drama Thriller</td>\n",
              "      <td>http://www.thedarkknightrises.com/</td>\n",
              "      <td>49026</td>\n",
              "      <td>dc comics crime fighter terrorist secret ident...</td>\n",
              "      <td>en</td>\n",
              "      <td>The Dark Knight Rises</td>\n",
              "      <td>Following the death of District Attorney Harve...</td>\n",
              "      <td>112.312950</td>\n",
              "      <td>...</td>\n",
              "      <td>165</td>\n",
              "      <td>[{\"iso_639_1\": \"en\", \"name\": \"English\"}]</td>\n",
              "      <td>Released</td>\n",
              "      <td>The Legend Ends</td>\n",
              "      <td>The Dark Knight Rises</td>\n",
              "      <td>7.6</td>\n",
              "      <td>9106</td>\n",
              "      <td>Christian Bale Michael Caine Gary Oldman Anne ...</td>\n",
              "      <td>[{'name': 'Hans Zimmer', 'gender': 2, 'departm...</td>\n",
              "      <td>Christopher Nolan</td>\n",
              "    </tr>\n",
              "    <tr>\n",
              "      <th>4</th>\n",
              "      <td>4</td>\n",
              "      <td>260000000</td>\n",
              "      <td>Action Adventure Science Fiction</td>\n",
              "      <td>http://movies.disney.com/john-carter</td>\n",
              "      <td>49529</td>\n",
              "      <td>based on novel mars medallion space travel pri...</td>\n",
              "      <td>en</td>\n",
              "      <td>John Carter</td>\n",
              "      <td>John Carter is a war-weary, former military ca...</td>\n",
              "      <td>43.926995</td>\n",
              "      <td>...</td>\n",
              "      <td>132</td>\n",
              "      <td>[{\"iso_639_1\": \"en\", \"name\": \"English\"}]</td>\n",
              "      <td>Released</td>\n",
              "      <td>Lost in our world, found in another.</td>\n",
              "      <td>John Carter</td>\n",
              "      <td>6.1</td>\n",
              "      <td>2124</td>\n",
              "      <td>Taylor Kitsch Lynn Collins Samantha Morton Wil...</td>\n",
              "      <td>[{'name': 'Andrew Stanton', 'gender': 2, 'depa...</td>\n",
              "      <td>Andrew Stanton</td>\n",
              "    </tr>\n",
              "  </tbody>\n",
              "</table>\n",
              "<p>5 rows × 24 columns</p>\n",
              "</div>\n",
              "    <div class=\"colab-df-buttons\">\n",
              "\n",
              "  <div class=\"colab-df-container\">\n",
              "    <button class=\"colab-df-convert\" onclick=\"convertToInteractive('df-f6fa8c16-65f8-4739-a229-5648710c0a90')\"\n",
              "            title=\"Convert this dataframe to an interactive table.\"\n",
              "            style=\"display:none;\">\n",
              "\n",
              "  <svg xmlns=\"http://www.w3.org/2000/svg\" height=\"24px\" viewBox=\"0 -960 960 960\">\n",
              "    <path d=\"M120-120v-720h720v720H120Zm60-500h600v-160H180v160Zm220 220h160v-160H400v160Zm0 220h160v-160H400v160ZM180-400h160v-160H180v160Zm440 0h160v-160H620v160ZM180-180h160v-160H180v160Zm440 0h160v-160H620v160Z\"/>\n",
              "  </svg>\n",
              "    </button>\n",
              "\n",
              "  <style>\n",
              "    .colab-df-container {\n",
              "      display:flex;\n",
              "      gap: 12px;\n",
              "    }\n",
              "\n",
              "    .colab-df-convert {\n",
              "      background-color: #E8F0FE;\n",
              "      border: none;\n",
              "      border-radius: 50%;\n",
              "      cursor: pointer;\n",
              "      display: none;\n",
              "      fill: #1967D2;\n",
              "      height: 32px;\n",
              "      padding: 0 0 0 0;\n",
              "      width: 32px;\n",
              "    }\n",
              "\n",
              "    .colab-df-convert:hover {\n",
              "      background-color: #E2EBFA;\n",
              "      box-shadow: 0px 1px 2px rgba(60, 64, 67, 0.3), 0px 1px 3px 1px rgba(60, 64, 67, 0.15);\n",
              "      fill: #174EA6;\n",
              "    }\n",
              "\n",
              "    .colab-df-buttons div {\n",
              "      margin-bottom: 4px;\n",
              "    }\n",
              "\n",
              "    [theme=dark] .colab-df-convert {\n",
              "      background-color: #3B4455;\n",
              "      fill: #D2E3FC;\n",
              "    }\n",
              "\n",
              "    [theme=dark] .colab-df-convert:hover {\n",
              "      background-color: #434B5C;\n",
              "      box-shadow: 0px 1px 3px 1px rgba(0, 0, 0, 0.15);\n",
              "      filter: drop-shadow(0px 1px 2px rgba(0, 0, 0, 0.3));\n",
              "      fill: #FFFFFF;\n",
              "    }\n",
              "  </style>\n",
              "\n",
              "    <script>\n",
              "      const buttonEl =\n",
              "        document.querySelector('#df-f6fa8c16-65f8-4739-a229-5648710c0a90 button.colab-df-convert');\n",
              "      buttonEl.style.display =\n",
              "        google.colab.kernel.accessAllowed ? 'block' : 'none';\n",
              "\n",
              "      async function convertToInteractive(key) {\n",
              "        const element = document.querySelector('#df-f6fa8c16-65f8-4739-a229-5648710c0a90');\n",
              "        const dataTable =\n",
              "          await google.colab.kernel.invokeFunction('convertToInteractive',\n",
              "                                                    [key], {});\n",
              "        if (!dataTable) return;\n",
              "\n",
              "        const docLinkHtml = 'Like what you see? Visit the ' +\n",
              "          '<a target=\"_blank\" href=https://colab.research.google.com/notebooks/data_table.ipynb>data table notebook</a>'\n",
              "          + ' to learn more about interactive tables.';\n",
              "        element.innerHTML = '';\n",
              "        dataTable['output_type'] = 'display_data';\n",
              "        await google.colab.output.renderOutput(dataTable, element);\n",
              "        const docLink = document.createElement('div');\n",
              "        docLink.innerHTML = docLinkHtml;\n",
              "        element.appendChild(docLink);\n",
              "      }\n",
              "    </script>\n",
              "  </div>\n",
              "\n",
              "\n",
              "<div id=\"df-ce5a616b-25fd-4e8d-bdf6-4efdfb440d01\">\n",
              "  <button class=\"colab-df-quickchart\" onclick=\"quickchart('df-ce5a616b-25fd-4e8d-bdf6-4efdfb440d01')\"\n",
              "            title=\"Suggest charts\"\n",
              "            style=\"display:none;\">\n",
              "\n",
              "<svg xmlns=\"http://www.w3.org/2000/svg\" height=\"24px\"viewBox=\"0 0 24 24\"\n",
              "     width=\"24px\">\n",
              "    <g>\n",
              "        <path d=\"M19 3H5c-1.1 0-2 .9-2 2v14c0 1.1.9 2 2 2h14c1.1 0 2-.9 2-2V5c0-1.1-.9-2-2-2zM9 17H7v-7h2v7zm4 0h-2V7h2v10zm4 0h-2v-4h2v4z\"/>\n",
              "    </g>\n",
              "</svg>\n",
              "  </button>\n",
              "\n",
              "<style>\n",
              "  .colab-df-quickchart {\n",
              "      --bg-color: #E8F0FE;\n",
              "      --fill-color: #1967D2;\n",
              "      --hover-bg-color: #E2EBFA;\n",
              "      --hover-fill-color: #174EA6;\n",
              "      --disabled-fill-color: #AAA;\n",
              "      --disabled-bg-color: #DDD;\n",
              "  }\n",
              "\n",
              "  [theme=dark] .colab-df-quickchart {\n",
              "      --bg-color: #3B4455;\n",
              "      --fill-color: #D2E3FC;\n",
              "      --hover-bg-color: #434B5C;\n",
              "      --hover-fill-color: #FFFFFF;\n",
              "      --disabled-bg-color: #3B4455;\n",
              "      --disabled-fill-color: #666;\n",
              "  }\n",
              "\n",
              "  .colab-df-quickchart {\n",
              "    background-color: var(--bg-color);\n",
              "    border: none;\n",
              "    border-radius: 50%;\n",
              "    cursor: pointer;\n",
              "    display: none;\n",
              "    fill: var(--fill-color);\n",
              "    height: 32px;\n",
              "    padding: 0;\n",
              "    width: 32px;\n",
              "  }\n",
              "\n",
              "  .colab-df-quickchart:hover {\n",
              "    background-color: var(--hover-bg-color);\n",
              "    box-shadow: 0 1px 2px rgba(60, 64, 67, 0.3), 0 1px 3px 1px rgba(60, 64, 67, 0.15);\n",
              "    fill: var(--button-hover-fill-color);\n",
              "  }\n",
              "\n",
              "  .colab-df-quickchart-complete:disabled,\n",
              "  .colab-df-quickchart-complete:disabled:hover {\n",
              "    background-color: var(--disabled-bg-color);\n",
              "    fill: var(--disabled-fill-color);\n",
              "    box-shadow: none;\n",
              "  }\n",
              "\n",
              "  .colab-df-spinner {\n",
              "    border: 2px solid var(--fill-color);\n",
              "    border-color: transparent;\n",
              "    border-bottom-color: var(--fill-color);\n",
              "    animation:\n",
              "      spin 1s steps(1) infinite;\n",
              "  }\n",
              "\n",
              "  @keyframes spin {\n",
              "    0% {\n",
              "      border-color: transparent;\n",
              "      border-bottom-color: var(--fill-color);\n",
              "      border-left-color: var(--fill-color);\n",
              "    }\n",
              "    20% {\n",
              "      border-color: transparent;\n",
              "      border-left-color: var(--fill-color);\n",
              "      border-top-color: var(--fill-color);\n",
              "    }\n",
              "    30% {\n",
              "      border-color: transparent;\n",
              "      border-left-color: var(--fill-color);\n",
              "      border-top-color: var(--fill-color);\n",
              "      border-right-color: var(--fill-color);\n",
              "    }\n",
              "    40% {\n",
              "      border-color: transparent;\n",
              "      border-right-color: var(--fill-color);\n",
              "      border-top-color: var(--fill-color);\n",
              "    }\n",
              "    60% {\n",
              "      border-color: transparent;\n",
              "      border-right-color: var(--fill-color);\n",
              "    }\n",
              "    80% {\n",
              "      border-color: transparent;\n",
              "      border-right-color: var(--fill-color);\n",
              "      border-bottom-color: var(--fill-color);\n",
              "    }\n",
              "    90% {\n",
              "      border-color: transparent;\n",
              "      border-bottom-color: var(--fill-color);\n",
              "    }\n",
              "  }\n",
              "</style>\n",
              "\n",
              "  <script>\n",
              "    async function quickchart(key) {\n",
              "      const quickchartButtonEl =\n",
              "        document.querySelector('#' + key + ' button');\n",
              "      quickchartButtonEl.disabled = true;  // To prevent multiple clicks.\n",
              "      quickchartButtonEl.classList.add('colab-df-spinner');\n",
              "      try {\n",
              "        const charts = await google.colab.kernel.invokeFunction(\n",
              "            'suggestCharts', [key], {});\n",
              "      } catch (error) {\n",
              "        console.error('Error during call to suggestCharts:', error);\n",
              "      }\n",
              "      quickchartButtonEl.classList.remove('colab-df-spinner');\n",
              "      quickchartButtonEl.classList.add('colab-df-quickchart-complete');\n",
              "    }\n",
              "    (() => {\n",
              "      let quickchartButtonEl =\n",
              "        document.querySelector('#df-ce5a616b-25fd-4e8d-bdf6-4efdfb440d01 button');\n",
              "      quickchartButtonEl.style.display =\n",
              "        google.colab.kernel.accessAllowed ? 'block' : 'none';\n",
              "    })();\n",
              "  </script>\n",
              "</div>\n",
              "\n",
              "    </div>\n",
              "  </div>\n"
            ],
            "application/vnd.google.colaboratory.intrinsic+json": {
              "type": "dataframe",
              "variable_name": "movies_data"
            }
          },
          "metadata": {},
          "execution_count": 12
        }
      ]
    },
    {
      "cell_type": "code",
      "source": [
        "movies_data.shape"
      ],
      "metadata": {
        "colab": {
          "base_uri": "https://localhost:8080/"
        },
        "id": "q-6W8nsssN7z",
        "outputId": "2a0218b7-0676-4574-8a62-cec98046a832"
      },
      "execution_count": null,
      "outputs": [
        {
          "output_type": "execute_result",
          "data": {
            "text/plain": [
              "(729, 24)"
            ]
          },
          "metadata": {},
          "execution_count": 13
        }
      ]
    },
    {
      "cell_type": "code",
      "source": [
        "#selecting the features\n",
        "selected_features = ['genres' , 'keywords', 'tagline' , 'cast', 'director']\n",
        "print(selected_features)"
      ],
      "metadata": {
        "colab": {
          "base_uri": "https://localhost:8080/"
        },
        "id": "kSb1mbHhsep4",
        "outputId": "c49fd0a6-8fbf-48d9-93aa-9cf9251fa339"
      },
      "execution_count": null,
      "outputs": [
        {
          "output_type": "stream",
          "name": "stdout",
          "text": [
            "['genres', 'keywords', 'tagline', 'cast', 'director']\n"
          ]
        }
      ]
    },
    {
      "cell_type": "code",
      "source": [
        "movies_data.isnull().sum()"
      ],
      "metadata": {
        "colab": {
          "base_uri": "https://localhost:8080/",
          "height": 836
        },
        "id": "gDjFk7bJtrrO",
        "outputId": "fef8d109-b90e-4783-d22b-d30e194d090a"
      },
      "execution_count": null,
      "outputs": [
        {
          "output_type": "execute_result",
          "data": {
            "text/plain": [
              "index                     0\n",
              "budget                    0\n",
              "genres                    0\n",
              "homepage                312\n",
              "id                        0\n",
              "keywords                  7\n",
              "original_language         0\n",
              "original_title            0\n",
              "overview                  0\n",
              "popularity                0\n",
              "production_companies      0\n",
              "production_countries      0\n",
              "release_date              0\n",
              "revenue                   0\n",
              "runtime                   0\n",
              "spoken_languages          0\n",
              "status                    0\n",
              "tagline                  20\n",
              "title                     0\n",
              "vote_average              0\n",
              "vote_count                0\n",
              "cast                      0\n",
              "crew                      1\n",
              "director                  0\n",
              "dtype: int64"
            ],
            "text/html": [
              "<div>\n",
              "<style scoped>\n",
              "    .dataframe tbody tr th:only-of-type {\n",
              "        vertical-align: middle;\n",
              "    }\n",
              "\n",
              "    .dataframe tbody tr th {\n",
              "        vertical-align: top;\n",
              "    }\n",
              "\n",
              "    .dataframe thead th {\n",
              "        text-align: right;\n",
              "    }\n",
              "</style>\n",
              "<table border=\"1\" class=\"dataframe\">\n",
              "  <thead>\n",
              "    <tr style=\"text-align: right;\">\n",
              "      <th></th>\n",
              "      <th>0</th>\n",
              "    </tr>\n",
              "  </thead>\n",
              "  <tbody>\n",
              "    <tr>\n",
              "      <th>index</th>\n",
              "      <td>0</td>\n",
              "    </tr>\n",
              "    <tr>\n",
              "      <th>budget</th>\n",
              "      <td>0</td>\n",
              "    </tr>\n",
              "    <tr>\n",
              "      <th>genres</th>\n",
              "      <td>0</td>\n",
              "    </tr>\n",
              "    <tr>\n",
              "      <th>homepage</th>\n",
              "      <td>312</td>\n",
              "    </tr>\n",
              "    <tr>\n",
              "      <th>id</th>\n",
              "      <td>0</td>\n",
              "    </tr>\n",
              "    <tr>\n",
              "      <th>keywords</th>\n",
              "      <td>7</td>\n",
              "    </tr>\n",
              "    <tr>\n",
              "      <th>original_language</th>\n",
              "      <td>0</td>\n",
              "    </tr>\n",
              "    <tr>\n",
              "      <th>original_title</th>\n",
              "      <td>0</td>\n",
              "    </tr>\n",
              "    <tr>\n",
              "      <th>overview</th>\n",
              "      <td>0</td>\n",
              "    </tr>\n",
              "    <tr>\n",
              "      <th>popularity</th>\n",
              "      <td>0</td>\n",
              "    </tr>\n",
              "    <tr>\n",
              "      <th>production_companies</th>\n",
              "      <td>0</td>\n",
              "    </tr>\n",
              "    <tr>\n",
              "      <th>production_countries</th>\n",
              "      <td>0</td>\n",
              "    </tr>\n",
              "    <tr>\n",
              "      <th>release_date</th>\n",
              "      <td>0</td>\n",
              "    </tr>\n",
              "    <tr>\n",
              "      <th>revenue</th>\n",
              "      <td>0</td>\n",
              "    </tr>\n",
              "    <tr>\n",
              "      <th>runtime</th>\n",
              "      <td>0</td>\n",
              "    </tr>\n",
              "    <tr>\n",
              "      <th>spoken_languages</th>\n",
              "      <td>0</td>\n",
              "    </tr>\n",
              "    <tr>\n",
              "      <th>status</th>\n",
              "      <td>0</td>\n",
              "    </tr>\n",
              "    <tr>\n",
              "      <th>tagline</th>\n",
              "      <td>20</td>\n",
              "    </tr>\n",
              "    <tr>\n",
              "      <th>title</th>\n",
              "      <td>0</td>\n",
              "    </tr>\n",
              "    <tr>\n",
              "      <th>vote_average</th>\n",
              "      <td>0</td>\n",
              "    </tr>\n",
              "    <tr>\n",
              "      <th>vote_count</th>\n",
              "      <td>0</td>\n",
              "    </tr>\n",
              "    <tr>\n",
              "      <th>cast</th>\n",
              "      <td>0</td>\n",
              "    </tr>\n",
              "    <tr>\n",
              "      <th>crew</th>\n",
              "      <td>1</td>\n",
              "    </tr>\n",
              "    <tr>\n",
              "      <th>director</th>\n",
              "      <td>0</td>\n",
              "    </tr>\n",
              "  </tbody>\n",
              "</table>\n",
              "</div><br><label><b>dtype:</b> int64</label>"
            ]
          },
          "metadata": {},
          "execution_count": 15
        }
      ]
    },
    {
      "cell_type": "code",
      "source": [
        "#replacing null values\n",
        "for i in selected_features:\n",
        "  movies_data[i] = movies_data[i].fillna('') #when there are multiple features\n"
      ],
      "metadata": {
        "id": "c_TA7Vypt2Zv"
      },
      "execution_count": null,
      "outputs": []
    },
    {
      "cell_type": "code",
      "source": [
        "#combining the features\n",
        "combined_features = movies_data['genres']+' '+movies_data['keywords']+' '+movies_data['tagline']+' '+movies_data['cast']+' '+movies_data['director']\n",
        "print(combined_features)"
      ],
      "metadata": {
        "colab": {
          "base_uri": "https://localhost:8080/"
        },
        "id": "r1aBotXSuSQj",
        "outputId": "a6b3b69a-bf89-4f10-e2ba-e6cbec7ac3a5"
      },
      "execution_count": null,
      "outputs": [
        {
          "output_type": "stream",
          "name": "stdout",
          "text": [
            "0      Action Adventure Fantasy Science Fiction cultu...\n",
            "1      Adventure Fantasy Action ocean drug abuse exot...\n",
            "2      Action Adventure Crime spy based on novel secr...\n",
            "3      Action Crime Drama Thriller dc comics crime fi...\n",
            "4      Action Adventure Science Fiction based on nove...\n",
            "                             ...                        \n",
            "724    Action Drama Thriller Crime mexico cia kidnapp...\n",
            "725    Comedy Family father son relationship parents ...\n",
            "726    Comedy Crime informant jumping from a rooftop ...\n",
            "727    Family Comedy holiday christmas party santa cl...\n",
            "728    Fantasy Action Science Fiction black magic fis...\n",
            "Length: 729, dtype: object\n"
          ]
        }
      ]
    },
    {
      "cell_type": "code",
      "source": [
        "v = TfidfVectorizer()"
      ],
      "metadata": {
        "id": "_HZBqR9yusl2"
      },
      "execution_count": null,
      "outputs": []
    },
    {
      "cell_type": "code",
      "source": [
        "feature_vectors = v.fit_transform(combined_features)\n",
        "print(feature_vectors)"
      ],
      "metadata": {
        "id": "mRjiC_hXvDkV"
      },
      "execution_count": null,
      "outputs": []
    },
    {
      "cell_type": "code",
      "source": [
        "#finding the similarity using cosine similarity\n",
        "similarity = cosine_similarity(feature_vectors)\n",
        "print(similarity)\n",
        "print(similarity.shape)"
      ],
      "metadata": {
        "colab": {
          "base_uri": "https://localhost:8080/"
        },
        "id": "vO6D-1_0vYzf",
        "outputId": "8685af77-bad5-4e2d-de8f-8a54a3cf536f"
      },
      "execution_count": null,
      "outputs": [
        {
          "output_type": "stream",
          "name": "stdout",
          "text": [
            "[[1.         0.06232851 0.03394713 ... 0.0050107  0.         0.0288348 ]\n",
            " [0.06232851 1.         0.02700888 ... 0.01334382 0.01351851 0.02103366]\n",
            " [0.03394713 0.02700888 1.         ... 0.01424466 0.03770737 0.00362831]\n",
            " ...\n",
            " [0.0050107  0.01334382 0.01424466 ... 1.         0.03253733 0.03244655]\n",
            " [0.         0.01351851 0.03770737 ... 0.03253733 1.         0.        ]\n",
            " [0.0288348  0.02103366 0.00362831 ... 0.03244655 0.         1.        ]]\n",
            "(729, 729)\n"
          ]
        }
      ]
    },
    {
      "cell_type": "code",
      "source": [
        "movie_name = input('Enter a movie name: ')"
      ],
      "metadata": {
        "colab": {
          "base_uri": "https://localhost:8080/"
        },
        "id": "t2inh5Plv0si",
        "outputId": "bc24fcd1-dc35-4310-c308-25b981764c9d"
      },
      "execution_count": null,
      "outputs": [
        {
          "name": "stdout",
          "output_type": "stream",
          "text": [
            "Enter a movie name: batman\n"
          ]
        }
      ]
    },
    {
      "cell_type": "code",
      "source": [
        "#creating a list with all the movies given in the dataset\n",
        "list_of_all_titles = movies_data['title'].tolist()\n",
        "print(list_of_all_titles)"
      ],
      "metadata": {
        "colab": {
          "base_uri": "https://localhost:8080/"
        },
        "id": "afValX2swUtJ",
        "outputId": "b78ec8f2-100d-4371-c67e-667484c36f8e"
      },
      "execution_count": null,
      "outputs": [
        {
          "output_type": "stream",
          "name": "stdout",
          "text": [
            "['Avatar', \"Pirates of the Caribbean: At World's End\", 'Spectre', 'The Dark Knight Rises', 'John Carter', 'Spider-Man 3', 'Tangled', 'Avengers: Age of Ultron', 'Harry Potter and the Half-Blood Prince', 'Batman v Superman: Dawn of Justice', 'Superman Returns', 'Quantum of Solace', \"Pirates of the Caribbean: Dead Man's Chest\", 'The Lone Ranger', 'Man of Steel', 'The Chronicles of Narnia: Prince Caspian', 'The Avengers', 'Pirates of the Caribbean: On Stranger Tides', 'Men in Black 3', 'The Hobbit: The Battle of the Five Armies', 'The Amazing Spider-Man', 'Robin Hood', 'The Hobbit: The Desolation of Smaug', 'The Golden Compass', 'King Kong', 'Titanic', 'Captain America: Civil War', 'Battleship', 'Jurassic World', 'Skyfall', 'Spider-Man 2', 'Iron Man 3', 'Alice in Wonderland', 'X-Men: The Last Stand', 'Monsters University', 'Transformers: Revenge of the Fallen', 'Transformers: Age of Extinction', 'Oz: The Great and Powerful', 'The Amazing Spider-Man 2', 'TRON: Legacy', 'Cars 2', 'Green Lantern', 'Toy Story 3', 'Terminator Salvation', 'Furious 7', 'World War Z', 'X-Men: Days of Future Past', 'Star Trek Into Darkness', 'Jack the Giant Slayer', 'The Great Gatsby', 'Prince of Persia: The Sands of Time', 'Pacific Rim', 'Transformers: Dark of the Moon', 'Indiana Jones and the Kingdom of the Crystal Skull', 'The Good Dinosaur', 'Brave', 'Star Trek Beyond', 'WALL·E', 'Rush Hour 3', '2012', 'A Christmas Carol', 'Jupiter Ascending', 'The Legend of Tarzan', 'The Chronicles of Narnia: The Lion, the Witch and the Wardrobe', 'X-Men: Apocalypse', 'The Dark Knight', 'Up', 'Monsters vs Aliens', 'Iron Man', 'Hugo', 'Wild Wild West', 'The Mummy: Tomb of the Dragon Emperor', 'Suicide Squad', 'Evan Almighty', 'Edge of Tomorrow', 'Waterworld', 'G.I. Joe: The Rise of Cobra', 'Inside Out', 'The Jungle Book', 'Iron Man 2', 'Snow White and the Huntsman', 'Maleficent', 'Dawn of the Planet of the Apes', 'The Lovers', '47 Ronin', 'Captain America: The Winter Soldier', 'Shrek Forever After', 'Tomorrowland', 'Big Hero 6', 'Wreck-It Ralph', 'The Polar Express', 'Independence Day: Resurgence', 'How to Train Your Dragon', 'Terminator 3: Rise of the Machines', 'Guardians of the Galaxy', 'Interstellar', 'Inception', 'Shin Godzilla', 'The Hobbit: An Unexpected Journey', 'The Fast and the Furious', 'The Curious Case of Benjamin Button', 'X-Men: First Class', 'The Hunger Games: Mockingjay - Part 2', \"The Sorcerer's Apprentice\", 'Poseidon', 'Alice Through the Looking Glass', 'Shrek the Third', 'Warcraft', 'Terminator Genisys', 'The Chronicles of Narnia: The Voyage of the Dawn Treader', 'Pearl Harbor', 'Transformers', 'Alexander', 'Harry Potter and the Order of the Phoenix', 'Harry Potter and the Goblet of Fire', 'Hancock', 'I Am Legend', 'Charlie and the Chocolate Factory', 'Ratatouille', 'Batman Begins', 'Madagascar: Escape 2 Africa', 'Night at the Museum: Battle of the Smithsonian', 'X-Men Origins: Wolverine', 'The Matrix Revolutions', 'Frozen', 'The Matrix Reloaded', 'Thor: The Dark World', 'Mad Max: Fury Road', 'Angels & Demons', 'Thor', 'Bolt', 'G-Force', 'Wrath of the Titans', 'Dark Shadows', 'Mission: Impossible - Rogue Nation', 'The Wolfman', 'Bee Movie', 'Kung Fu Panda 2', 'The Last Airbender', 'Mission: Impossible III', 'White House Down', 'Mars Needs Moms', 'Flushed Away', 'Pan', 'Mr. Peabody & Sherman', 'Troy', \"Madagascar 3: Europe's Most Wanted\", 'Die Another Day', 'Ghostbusters', 'Armageddon', 'Men in Black II', 'Beowulf', 'Kung Fu Panda 3', 'Mission: Impossible - Ghost Protocol', 'Rise of the Guardians', 'Fun with Dick and Jane', 'The Last Samurai', 'Exodus: Gods and Kings', 'Star Trek', 'Spider-Man', 'How to Train Your Dragon 2', 'Gods of Egypt', 'Stealth', 'Watchmen', 'Lethal Weapon 4', 'Hulk', 'G.I. Joe: Retaliation', 'Sahara', 'Final Fantasy: The Spirits Within', 'Captain America: The First Avenger', 'The World Is Not Enough', 'Master and Commander: The Far Side of the World', 'The Twilight Saga: Breaking Dawn - Part 2', 'Happy Feet Two', 'The Incredible Hulk', 'The BFG', 'The Revenant', 'Turbo', 'Rango', 'Penguins of Madagascar', 'The Bourne Ultimatum', 'Kung Fu Panda', 'Ant-Man', 'The Hunger Games: Catching Fire', 'Home', 'War of the Worlds', 'Bad Boys II', 'Puss in Boots', 'Salt', 'Noah', 'The Adventures of Tintin', 'Harry Potter and the Prisoner of Azkaban', 'Australia', 'After Earth', 'Dinosaur', 'Night at the Museum: Secret of the Tomb', 'Megamind', \"Harry Potter and the Philosopher's Stone\", 'R.I.P.D.', 'Pirates of the Caribbean: The Curse of the Black Pearl', 'The Hunger Games: Mockingjay - Part 1', 'The Da Vinci Code', 'Rio 2', 'X2', 'Fast Five', 'Sherlock Holmes: A Game of Shadows', 'Clash of the Titans', 'Total Recall', 'The 13th Warrior', 'The Bourne Legacy', 'Batman & Robin', 'How the Grinch Stole Christmas', 'The Day After Tomorrow', 'Mission: Impossible II', 'The Perfect Storm', 'Fantastic 4: Rise of the Silver Surfer', 'Life of Pi', 'Ghost Rider', 'Jason Bourne', \"Charlie's Angels: Full Throttle\", 'Prometheus', 'Stuart Little 2', 'Elysium', 'The Chronicles of Riddick', 'RoboCop', 'Speed Racer', 'How Do You Know', 'Knight and Day', 'Oblivion', 'Star Wars: Episode III - Revenge of the Sith', 'Star Wars: Episode II - Attack of the Clones', 'Monsters, Inc.', 'The Wolverine', 'Star Wars: Episode I - The Phantom Menace', 'The Croods', 'Asterix at the Olympic Games', 'Windtalkers', \"The Huntsman: Winter's War\", 'Teenage Mutant Ninja Turtles', 'Gravity', \"Dante's Peak\", 'Teenage Mutant Ninja Turtles: Out of the Shadows', 'Fantastic Four', 'Night at the Museum', 'San Andreas', 'Tomorrow Never Dies', 'The Patriot', \"Ocean's Twelve\", 'Mr. & Mrs. Smith', 'Insurgent', 'The Aviator', \"Gulliver's Travels\", 'The Green Hornet', '300: Rise of an Empire', 'The Smurfs', 'Home on the Range', 'Allegiant', 'Real Steel', 'The Smurfs 2', 'Speed 2: Cruise Control', \"Ender's Game\", 'Live Free or Die Hard', 'The Lord of the Rings: The Fellowship of the Ring', 'Around the World in 80 Days', 'Ali', 'The Cat in the Hat', 'I, Robot', 'Kingdom of Heaven', 'Stuart Little', 'The Princess and the Frog', 'The Martian', 'The Island', 'Town & Country', 'Gone in Sixty Seconds', 'Gladiator', 'Minority Report', 'Harry Potter and the Chamber of Secrets', 'Casino Royale', 'Planet of the Apes', 'Terminator 2: Judgment Day', 'Public Enemies', 'American Gangster', 'True Lies', 'The Taking of Pelham 1 2 3', 'Little Fockers', 'The Other Guys', 'Eraser', 'Django Unchained', 'The Hunchback of Notre Dame', \"The Emperor's New Groove\", 'The Expendables 2', 'National Treasure', 'Eragon', 'Where the Wild Things Are', 'Epic', 'The Tourist', 'End of Days', 'Blood Diamond', 'The Wolf of Wall Street', 'Batman Forever', 'Starship Troopers', 'Cloud Atlas', \"Legend of the Guardians: The Owls of Ga'Hoole\", 'Catwoman', 'Hercules', 'Treasure Planet', 'Land of the Lost', 'The Expendables 3', 'Point Break', 'Son of the Mask', 'In the Heart of the Sea', 'The Adventures of Pluto Nash', 'Green Zone', 'The Peanuts Movie', 'The Spanish Prisoner', 'The Mummy Returns', 'Gangs of New York', 'The Flowers of War', \"Surf's Up\", 'The Stepford Wives', 'Black Hawk Down', 'The Campaign', 'The Fifth Element', 'Sex and the City 2', 'The Road to El Dorado', 'Ice Age: Continental Drift', 'Cinderella', 'The Lovely Bones', 'Finding Nemo', 'The Lord of the Rings: The Return of the King', 'The Lord of the Rings: The Two Towers', 'Seventh Son', 'Lara Croft: Tomb Raider', 'Transcendence', 'Jurassic Park III', 'Rise of the Planet of the Apes', 'The Spiderwick Chronicles', 'A Good Day to Die Hard', 'The Alamo', 'The Incredibles', 'Cutthroat Island', 'Percy Jackson & the Olympians: The Lightning Thief', 'Men in Black', 'Toy Story 2', 'Unstoppable', 'Rush Hour 2', 'What Lies Beneath', 'Cloudy with a Chance of Meatballs', 'Ice Age: Dawn of the Dinosaurs', 'The Secret Life of Walter Mitty', \"Charlie's Angels\", 'The Departed', 'Mulan', 'Tropic Thunder', 'The Girl with the Dragon Tattoo', 'Die Hard: With a Vengeance', 'Sherlock Holmes', 'Ben-Hur', 'Atlantis: The Lost Empire', 'Alvin and the Chipmunks: The Road Chip', 'Valkyrie', \"You Don't Mess with the Zohan\", 'Pixels', 'A.I. Artificial Intelligence', 'The Haunted Mansion', 'Contact', 'Hollow Man', 'The Interpreter', 'Percy Jackson: Sea of Monsters', 'Lara Croft Tomb Raider: The Cradle of Life', 'Now You See Me 2', 'The Saint', 'Spy Game', 'Mission to Mars', 'Rio', 'Bicentennial Man', 'Volcano', \"The Devil's Own\", 'K-19: The Widowmaker', 'Conan the Barbarian', 'Cinderella Man', 'The Nutcracker: The Untold Story', 'Seabiscuit', 'Twister', 'Cast Away', 'Happy Feet', 'The Bourne Supremacy', 'Air Force One', \"Ocean's Eleven\", 'The Three Musketeers', 'Hotel Transylvania', 'Enchanted', 'Safe House', '102 Dalmatians', 'Tower Heist', 'The Holiday', 'Enemy of the State', \"It's Complicated\", \"Ocean's Thirteen\", 'Open Season', 'Divergent', 'Enemy at the Gates', 'The Rundown', 'Last Action Hero', 'Memoirs of a Geisha', 'The Fast and the Furious: Tokyo Drift', 'Arthur Christmas', 'Meet Joe Black', 'Collateral Damage', 'All That Jazz', 'Mirror Mirror', 'Scott Pilgrim vs. the World', 'The Core', 'Nutty Professor II: The Klumps', 'Scooby-Doo', 'Dredd', 'Click', 'Creepshow', 'Cats & Dogs 2 : The Revenge of Kitty Galore', 'Jumper', 'Hellboy II: The Golden Army', 'Zodiac', 'The 6th Day', 'Bruce Almighty', 'The Expendables', 'Mission: Impossible', 'The Hunger Games', 'The Hangover Part II', 'Batman Returns', 'Over the Hedge', 'Lilo & Stitch', \"Charlotte's Web\", 'Deep Impact', 'RED 2', 'The Longest Yard', 'Alvin and the Chipmunks: Chipwrecked', 'Grown Ups 2', 'Get Smart', \"Something's Gotta Give\", 'Shutter Island', 'Four Christmases', 'Robots', 'Face/Off', 'Bedtime Stories', 'Road to Perdition', 'Just Go with It', 'Con Air', 'Eagle Eye', 'Cold Mountain', 'The Book of Eli', 'Flubber', 'The Haunting', 'Space Jam', 'The Pink Panther', 'The Day the Earth Stood Still', 'Conspiracy Theory', 'Fury', 'Six Days Seven Nights', 'Yogi Bear', 'Spirit: Stallion of the Cimarron', 'Zookeeper', 'Lost in Space', 'The Manchurian Candidate', 'Déjà Vu', 'Hotel Transylvania 2', 'Fantasia 2000', 'The Time Machine', 'Mighty Joe Young', 'Swordfish', 'The Legend of Zorro', 'What Dreams May Come', 'Little Nicky', 'The Brothers Grimm', 'Mars Attacks!', 'Evolution', 'The Edge', 'Surrogates', 'Thirteen Days', 'Daylight', 'Walking With Dinosaurs', 'Battlefield Earth', 'Looney Tunes: Back in Action', 'Nine', 'Timeline', 'The Postman', 'Babe: Pig in the City', 'The Last Witch Hunter', 'Red Planet', 'Arthur and the Invisibles', 'Oceans', 'A Sound of Thunder', 'Pompeii', 'Top Cat Begins', 'A Beautiful Mind', 'The Lion King', 'Journey 2: The Mysterious Island', 'Cloudy with a Chance of Meatballs 2', 'Red Dragon', 'Hidalgo', 'Jack and Jill', '2 Fast 2 Furious', 'The Little Prince', 'The Invasion', 'The Adventures of Rocky & Bullwinkle', 'The Secret Life of Pets', 'The League of Extraordinary Gentlemen', 'Despicable Me 2', 'Independence Day', 'The Lost World: Jurassic Park', 'Madagascar', 'Children of Men', 'X-Men', 'Wanted', 'The Rock', 'Ice Age: The Meltdown', '50 First Dates', 'Hairspray', 'Exorcist: The Beginning', 'Inspector Gadget', 'Now You See Me', 'Grown Ups', 'The Terminal', 'Hotel for Dogs', 'Vertical Limit', \"Charlie Wilson's War\", 'Shark Tale', 'Dreamgirls', 'Be Cool', 'Munich', 'Tears of the Sun', 'Killers', 'The Man from U.N.C.L.E.', 'Spanglish', 'Monster House', 'Bandits', 'First Knight', 'Anna and the King', 'Immortals', 'Hostage', 'Titan A.E.', 'Hollywood Homicide', 'Soldier', 'Carriers', 'Monkeybone', 'Flight of the Phoenix', 'Unbreakable', 'Minions', 'Sucker Punch', 'Snake Eyes', 'Sphere', 'The Angry Birds Movie', \"Fool's Gold\", 'Funny People', 'The Kingdom', 'Talladega Nights: The Ballad of Ricky Bobby', 'Dr. Dolittle 2', 'Braveheart', 'Jarhead', 'The Simpsons Movie', 'The Majestic', 'Driven', 'Two Brothers', 'The Village', 'Doctor Dolittle', 'Signs', 'Shrek 2', 'Cars', 'Runaway Bride', 'xXx', 'The SpongeBob Movie: Sponge Out of Water', 'Ransom', 'Inglourious Basterds', 'Hook', 'Die Hard 2', 'S.W.A.T.', 'Vanilla Sky', 'Lady in the Water', 'AVP: Alien vs. Predator', 'Alvin and the Chipmunks: The Squeakquel', 'We Were Soldiers', 'Olympus Has Fallen', 'Star Trek: Insurrection', 'Battle: Los Angeles', 'Big Fish', 'Wolf', 'War Horse', 'The Monuments Men', 'The Abyss', 'Wall Street: Money Never Sleeps', 'Dracula Untold', 'The Siege', 'Stardust', 'Seven Years in Tibet', 'The Dilemma', 'Bad Company', 'Doom', 'I Spy', 'Underworld: Awakening', 'Rock of Ages', \"Hart's War\", 'Killer Elite', 'Rollerball', 'Ballistic: Ecks vs. Sever', 'Hard Rain', 'Osmosis Jones', \"Legends of Oz: Dorothy's Return\", 'Blackhat', 'Sky Captain and the World of Tomorrow', 'Basic Instinct 2', 'Escape Plan', 'The Legend of Hercules', 'The Sum of All Fears', 'The Twilight Saga: Eclipse', 'The Score', 'Despicable Me', 'Money Train', 'Ted 2', 'Agora', 'Mystery Men', 'Hall Pass', 'The Insider', 'The Finest Hours', 'Body of Lies', 'Dinner for Schmucks', 'Abraham Lincoln: Vampire Hunter', 'Entrapment', 'The X Files', 'The Last Legion', 'Saving Private Ryan', 'Need for Speed', 'What Women Want', 'Ice Age', 'Dreamcatcher', 'Lincoln', 'The Matrix', 'Apollo 13', 'The Santa Clause 2', 'Les Misérables', \"You've Got Mail\", 'Step Brothers', 'The Mask of Zorro', 'Due Date', 'Unbroken', 'Space Cowboys', 'Cliffhanger', 'Broken Arrow', 'The Kid', 'World Trade Center', 'Mona Lisa Smile', 'The Dictator', 'Eyes Wide Shut', 'Annie', 'Focus', 'This Means War', 'Blade: Trinity', 'Red Dawn', 'Primary Colors', 'Resident Evil: Retribution', 'Death Race', 'The Long Kiss Goodnight', 'Proof of Life', 'Zathura: A Space Adventure', 'Fight Club', 'We Are Marshall', 'Hudson Hawk', 'Lucky Numbers', 'I, Frankenstein', 'Oliver Twist', 'Elektra', 'Sin City: A Dame to Kill For', 'Random Hearts', 'Everest', 'Perfume: The Story of a Murderer', 'Austin Powers in Goldmember', 'Astro Boy', 'Jurassic Park', 'Wyatt Earp', 'Clear and Present Danger', 'Dragon Blade', 'Little Man', 'U-571', 'The American President', 'The Love Guru', '3000 Miles to Graceland', 'The Hateful Eight', 'Blades of Glory', 'Hop', '300', 'Meet the Fockers', 'Marley & Me', 'The Green Mile', 'Wild Hogs', 'Chicken Little', 'Gone Girl', 'The Bourne Identity', 'GoldenEye', \"The General's Daughter\", 'The Truman Show', 'The Prince of Egypt', 'Daddy Day Care', '2 Guns', 'Cats & Dogs', 'The Italian Job', 'Two Weeks Notice', 'Antz', 'Couples Retreat', 'Days of Thunder', 'Cheaper by the Dozen 2', 'Maze Runner: The Scorch Trials', 'Eat Pray Love', 'The Family Man', 'RED', 'Any Given Sunday', 'The Horse Whisperer', 'Collateral', 'The Scorpion King', 'Ladder 49', 'Jack Reacher', 'Deep Blue Sea', 'This Is It', 'Contagion', 'Kangaroo Jack', 'Coraline', 'The Happening', 'Man on Fire', 'The Shaggy Dog', 'Starsky & Hutch', 'Jingle All the Way', 'Hellboy']\n"
          ]
        }
      ]
    },
    {
      "cell_type": "code",
      "source": [
        "find_close_match = difflib.get_close_matches(movie_name , list_of_all_titles)\n",
        "print(find_close_match)"
      ],
      "metadata": {
        "colab": {
          "base_uri": "https://localhost:8080/"
        },
        "id": "N-KNaUz_wqyY",
        "outputId": "afa0b6a2-bc9e-4098-f9e2-1685e1b68f90"
      },
      "execution_count": null,
      "outputs": [
        {
          "output_type": "stream",
          "name": "stdout",
          "text": [
            "['Catwoman']\n"
          ]
        }
      ]
    },
    {
      "cell_type": "code",
      "source": [
        "close_match = find_close_match[0]\n",
        "print(close_match)"
      ],
      "metadata": {
        "colab": {
          "base_uri": "https://localhost:8080/"
        },
        "id": "7rpXvFm2w8pA",
        "outputId": "36ef88a2-973e-48bd-e888-283a4429e6d7"
      },
      "execution_count": null,
      "outputs": [
        {
          "output_type": "stream",
          "name": "stdout",
          "text": [
            "Catwoman\n"
          ]
        }
      ]
    },
    {
      "cell_type": "code",
      "source": [
        "#index of the movie with title\n",
        "index_of_the_movie = movies_data[movies_data.title == close_match]['index'].values[0]\n",
        "print(index_of_the_movie)"
      ],
      "metadata": {
        "colab": {
          "base_uri": "https://localhost:8080/"
        },
        "id": "1m68O3m37oSn",
        "outputId": "43a5804b-9650-4f00-c5f5-e9649c908f89"
      },
      "execution_count": null,
      "outputs": [
        {
          "output_type": "stream",
          "name": "stdout",
          "text": [
            "303\n"
          ]
        }
      ]
    },
    {
      "cell_type": "code",
      "source": [
        "#based on index values\n",
        "similarity_score = list(enumerate(similarity[index_of_the_movie]))\n",
        "print(similarity_score)"
      ],
      "metadata": {
        "colab": {
          "base_uri": "https://localhost:8080/"
        },
        "id": "nA8AnN4g7-LF",
        "outputId": "4fcd8f18-bd3d-44d7-d7d0-d549d9ee4061"
      },
      "execution_count": null,
      "outputs": [
        {
          "output_type": "stream",
          "name": "stdout",
          "text": [
            "[(0, 0.003786749318692379), (1, 0.0033614531063075504), (2, 0.01829179043226519), (3, 0.10857915651966515), (4, 0.03103389157385462), (5, 0.003865726865823218), (6, 0.0), (7, 0.004113846226694305), (8, 0.0), (9, 0.07062228340021316), (10, 0.07937270392173218), (11, 0.014570663282828647), (12, 0.004084314408671391), (13, 0.003457469820742283), (14, 0.07113630558219275), (15, 0.0), (16, 0.003976831211504625), (17, 0.003727887165471395), (18, 0.017376796008896647), (19, 0.0035086153429607267), (20, 0.03907138200176589), (21, 0.003304184215591979), (22, 0.0), (23, 0.0), (24, 0.0032473391838204906), (25, 0.03772525238911107), (26, 0.004074788739236216), (27, 0.003594094390761118), (28, 0.003867105258227064), (29, 0.003986835265508587), (30, 0.018526868709845695), (31, 0.0038504900671854523), (32, 0.013683896473326448), (33, 0.08610954740655628), (34, 0.0), (35, 0.03511052607100554), (36, 0.0038439313804885644), (37, 0.015551055264816767), (38, 0.040447294264047404), (39, 0.003652142003525066), (40, 0.02968415408299385), (41, 0.08212715168019272), (42, 0.0), (43, 0.003963774820505594), (44, 0.004135725752698126), (45, 0.00351871035532773), (46, 0.07979785390486663), (47, 0.0044653767299687765), (48, 0.0040879722706077485), (49, 0.0), (50, 0.003755090848096596), (51, 0.04431913120977058), (52, 0.038718391816461896), (53, 0.004200854598260382), (54, 0.03506623423208756), (55, 0.003915320623554325), (56, 0.004500318744913558), (57, 0.0), (58, 0.019943768091182604), (59, 0.003712142166325684), (60, 0.0), (61, 0.0038420244564090094), (62, 0.003944538002113901), (63, 0.0), (64, 0.0), (65, 0.0973837663301878), (66, 0.014224991044292435), (67, 0.0), (68, 0.003646933136400463), (69, 0.0), (70, 0.0037266799087355873), (71, 0.004822510242082328), (72, 0.08400130289375751), (73, 0.0), (74, 0.003977543307383617), (75, 0.003755724578867039), (76, 0.0038135569359114365), (77, 0.0), (78, 0.0), (79, 0.003560072668100225), (80, 0.0), (81, 0.04184041238496477), (82, 0.004013129917712974), (83, 0.004067351966163679), (84, 0.003175714236450337), (85, 0.021561720519074873), (86, 0.0), (87, 0.04795188365319684), (88, 0.0036546317904840174), (89, 0.0), (90, 0.0), (91, 0.0037403021420176277), (92, 0.0), (93, 0.0038246507997562926), (94, 0.003813030562151614), (95, 0.0), (96, 0.016386229012817888), (97, 0.0032483094440985518), (98, 0.003825700195513028), (99, 0.01627206336969616), (100, 0.027261291930368116), (101, 0.004116724869522582), (102, 0.004037821620979289), (103, 0.00396204091134234), (104, 0.003946816289173052), (105, 0.015055530895977252), (106, 0.0), (107, 0.004139860199711017), (108, 0.003934135964648363), (109, 0.0), (110, 0.0), (111, 0.0042195909893595), (112, 0.0389681860199309), (113, 0.0), (114, 0.0), (115, 0.0035506137218028447), (116, 0.0033974497641882317), (117, 0.0), (118, 0.0), (119, 0.10162227221530877), (120, 0.0), (121, 0.030542833050495453), (122, 0.0040725529833926565), (123, 0.003638953710481374), (124, 0.0), (125, 0.0036205957576615775), (126, 0.003806146124743067), (127, 0.004044823143598181), (128, 0.0), (129, 0.004111021171394055), (130, 0.0), (131, 0.004222710764897468), (132, 0.0), (133, 0.0), (134, 0.0037100725468006118), (135, 0.0), (136, 0.0), (137, 0.0), (138, 0.0037509270831038136), (139, 0.0355507116744455), (140, 0.037854268420287294), (141, 0.0), (142, 0.0), (143, 0.0), (144, 0.0), (145, 0.03859572073280952), (146, 0.03424307017368032), (147, 0.072686514657982), (148, 0.0036661066569946567), (149, 0.003839910852740525), (150, 0.003702417997556089), (151, 0.003829410529851434), (152, 0.0036611286749388574), (153, 0.0036450603433147294), (154, 0.0), (155, 0.0), (156, 0.02665856001631082), (157, 0.00400147980488389), (158, 0.0042353128878443004), (159, 0.003444138861285665), (160, 0.0038530441779100573), (161, 0.0), (162, 0.004634671821602419), (163, 0.08804700125794714), (164, 0.020953945926275235), (165, 0.004158807636713674), (166, 0.004643022069398398), (167, 0.003945906495149934), (168, 0.0038084716063695057), (169, 0.0039061276892586195), (170, 0.0031892119532804823), (171, 0.01388594270912878), (172, 0.0), (173, 0.0), (174, 0.0034515410441850504), (175, 0.0), (176, 0.0), (177, 0.0), (178, 0.014120545962395781), (179, 0.0), (180, 0.0040916984877875364), (181, 0.0), (182, 0.0038268135418705273), (183, 0.004017344579764526), (184, 0.0), (185, 0.0), (186, 0.014437832174601666), (187, 0.0035848987720768963), (188, 0.0040350290699410025), (189, 0.0), (190, 0.0), (191, 0.0), (192, 0.0), (193, 0.00406710536535093), (194, 0.0), (195, 0.0527522061890797), (196, 0.0039390773289574126), (197, 0.0), (198, 0.01668972436898805), (199, 0.003469171581478904), (200, 0.015371705353020461), (201, 0.0), (202, 0.0), (203, 0.07512069512623218), (204, 0.017425287081175175), (205, 0.01770800490185753), (206, 0.0037806997420934273), (207, 0.08186442701782316), (208, 0.0038027049734201787), (209, 0.00381491963475892), (210, 0.09139358299010512), (211, 0.01455692954325277), (212, 0.0037604424203054074), (213, 0.004235038832103414), (214, 0.0), (215, 0.004040649949835663), (216, 0.00372897691034665), (217, 0.003454326492576078), (218, 0.0043667251165151605), (219, 0.004222003710947544), (220, 0.0), (221, 0.0), (222, 0.003912651477425307), (223, 0.016878739700700345), (224, 0.0036688072433126917), (225, 0.004094070247986554), (226, 0.029065817761298206), (227, 0.0037814938494634266), (228, 0.05065788623608166), (229, 0.003900899392802023), (230, 0.0031787896394899922), (231, 0.0), (232, 0.0035699649401513107), (233, 0.0031233650876560364), (234, 0.07034330421430424), (235, 0.0), (236, 0.0038049213321217448), (237, 0.06698338034616423), (238, 0.0035792674933422413), (239, 0.013788044541071184), (240, 0.0037714952608148113), (241, 0.0036942274949856536), (242, 0.004156857814525982), (243, 0.0036890878576633017), (244, 0.003256350997630373), (245, 0.01566407377911754), (246, 0.0035174113747251353), (247, 0.012411303475237157), (248, 0.004058595928687176), (249, 0.0), (250, 0.0), (251, 0.0), (252, 0.017067131179736572), (253, 0.003270083282757267), (254, 0.0), (255, 0.0), (256, 0.0), (257, 0.0038266895540219584), (258, 0.0), (259, 0.003418212974495076), (260, 0.0037889405914708885), (261, 0.0041485605882420245), (262, 0.0039690868421754), (263, 0.0036434535147700222), (264, 0.0), (265, 0.0), (266, 0.0037733353273459187), (267, 0.01529477300422544), (268, 0.0), (269, 0.0), (270, 0.0), (271, 0.004270210587324037), (272, 0.0), (273, 0.01632385736546235), (274, 0.0041388486949079945), (275, 0.003592049919382571), (276, 0.015544107568973873), (277, 0.003762358952600196), (278, 0.0033639093372403004), (279, 0.004098829967818324), (280, 0.012514636001713503), (281, 0.011867080461995791), (282, 0.0033711404415670363), (283, 0.010598332231703476), (284, 0.04038559161937884), (285, 0.029014925600438744), (286, 0.0037933610880302917), (287, 0.0), (288, 0.0), (289, 0.0), (290, 0.019248655107981544), (291, 0.0035691472619650082), (292, 0.0032018864544463084), (293, 0.01289398112179716), (294, 0.0), (295, 0.0035657113346011554), (296, 0.05246385960843419), (297, 0.003986042045674212), (298, 0.06290419143177295), (299, 0.08431251194724101), (300, 0.003239128473185479), (301, 0.078571724372892), (302, 0.0), (303, 1.0000000000000002), (304, 0.0036271262073634294), (305, 0.014514756918771712), (306, 0.0), (307, 0.003655731201990927), (308, 0.014653988069574683), (309, 0.0), (310, 0.043807849170283325), (311, 0.007995436562224826), (312, 0.003405817970311767), (313, 0.0), (314, 0.028234441629995402), (315, 0.003286493288216634), (316, 0.028103283092198582), (317, 0.0), (318, 0.013371329248221188), (319, 0.004132011809285997), (320, 0.0039116692726072905), (321, 0.0), (322, 0.004041154799229802), (323, 0.0), (324, 0.0), (325, 0.0), (326, 0.0), (327, 0.0), (328, 0.012081438937914916), (329, 0.00389988006377855), (330, 0.004084699559138927), (331, 0.0), (332, 0.0032503408085803424), (333, 0.0), (334, 0.01768430517659449), (335, 0.0038555541735574494), (336, 0.0), (337, 0.00262270548247352), (338, 0.02747327532855395), (339, 0.00409171514333283), (340, 0.0030542408649610435), (341, 0.0), (342, 0.003485778055665175), (343, 0.0), (344, 0.0031915383978587957), (345, 0.018603762837452076), (346, 0.0), (347, 0.10176077759309982), (348, 0.0), (349, 0.0), (350, 0.023585614257640965), (351, 0.01300260469878007), (352, 0.0), (353, 0.0029641820676920973), (354, 0.012654305144683032), (355, 0.0038985637394657094), (356, 0.017284396794902068), (357, 0.0), (358, 0.0), (359, 0.0), (360, 0.0), (361, 0.0037844778759603334), (362, 0.004208298353395095), (363, 0.025453569641850204), (364, 0.0), (365, 0.0), (366, 0.0032240380479843234), (367, 0.012701377666641967), (368, 0.0), (369, 0.003246215969065512), (370, 0.017068185874962956), (371, 0.002928247225023849), (372, 0.015301240392326637), (373, 0.0), (374, 0.0), (375, 0.0), (376, 0.003675073299766878), (377, 0.00957368741081894), (378, 0.0), (379, 0.0034057415077712572), (380, 0.0), (381, 0.05081666133099343), (382, 0.0), (383, 0.0035621439761595007), (384, 0.03313815358142521), (385, 0.0), (386, 0.003965850387926883), (387, 0.03727123810775729), (388, 0.02785032215279318), (389, 0.018200079825753647), (390, 0.0), (391, 0.0), (392, 0.003453488100519188), (393, 0.0), (394, 0.003868570703291925), (395, 0.0), (396, 0.003887014227414916), (397, 0.0), (398, 0.012512875974555662), (399, 0.0), (400, 0.0033879946395006704), (401, 0.0), (402, 0.0036485191025169296), (403, 0.016597787140332994), (404, 0.0), (405, 0.013306621330012841), (406, 0.013500463320961477), (407, 0.0), (408, 0.0037246667140058845), (409, 0.007785055890715384), (410, 0.03192498792602521), (411, 0.03720704567226324), (412, 0.0035840055561206104), (413, 0.0), (414, 0.012444271757934788), (415, 0.017717584575141727), (416, 0.0), (417, 0.0), (418, 0.0), (419, 0.0), (420, 0.0), (421, 0.012524664772887393), (422, 0.0), (423, 0.014570365379594873), (424, 0.0037464873231029634), (425, 0.004250388966638474), (426, 0.013763089632908098), (427, 0.0), (428, 0.08694774035499456), (429, 0.0), (430, 0.0), (431, 0.0), (432, 0.0037347105732556713), (433, 0.0184125071567544), (434, 0.0), (435, 0.0), (436, 0.0), (437, 0.004283908924036461), (438, 0.038934532903099686), (439, 0.0), (440, 0.08869805467511878), (441, 0.07291139038232104), (442, 0.06732745249249097), (443, 0.0), (444, 0.02491060928399263), (445, 0.0), (446, 0.016107424704613807), (447, 0.004249255140699594), (448, 0.0), (449, 0.0033639793387387337), (450, 0.04532827704606206), (451, 0.026884584613765264), (452, 0.0), (453, 0.01758166807654147), (454, 0.0), (455, 0.0037104204530687794), (456, 0.0035120836151817133), (457, 0.01752523274313538), (458, 0.0), (459, 0.0), (460, 0.0), (461, 0.0), (462, 0.0), (463, 0.0), (464, 0.0), (465, 0.0), (466, 0.004087533490149466), (467, 0.004226323866130724), (468, 0.10228388492449494), (469, 0.0035116727153396746), (470, 0.0), (471, 0.0), (472, 0.003624017703864424), (473, 0.03281040919550674), (474, 0.0), (475, 0.003092116955714489), (476, 0.003905023846923955), (477, 0.0), (478, 0.0037193677546612848), (479, 0.016236671838788238), (480, 0.003831066937129171), (481, 0.0), (482, 0.0), (483, 0.036500894642426174), (484, 0.012676175576138303), (485, 0.0), (486, 0.0038283702668878254), (487, 0.07849459623427417), (488, 0.01320632381728509), (489, 0.0), (490, 0.0036768376342251573), (491, 0.0034343804417102425), (492, 0.0), (493, 0.0), (494, 0.012893403083706274), (495, 0.0037930124070170777), (496, 0.0), (497, 0.014305721656963276), (498, 0.0), (499, 0.0), (500, 0.01573930357936398), (501, 0.0), (502, 0.0), (503, 0.0033696275500280787), (504, 0.0), (505, 0.0299751706214803), (506, 0.10732624496791915), (507, 0.0036883937461570445), (508, 0.00396010844709527), (509, 0.0), (510, 0.003670144792625004), (511, 0.08892941135346556), (512, 0.01794704068870334), (513, 0.014889981809651738), (514, 0.0), (515, 0.0), (516, 0.0), (517, 0.0), (518, 0.004349379251764809), (519, 0.012011700267674725), (520, 0.0), (521, 0.0), (522, 0.0), (523, 0.00406293823855316), (524, 0.0), (525, 0.03264158784399311), (526, 0.0), (527, 0.086466003114192), (528, 0.013630222527041144), (529, 0.0034262863087001784), (530, 0.0039424341778673735), (531, 0.0035300962316017147), (532, 0.0), (533, 0.0), (534, 0.033489444919909496), (535, 0.043778844640996205), (536, 0.0), (537, 0.0038350367598798344), (538, 0.012684416445466216), (539, 0.004248617713212953), (540, 0.004619839794639939), (541, 0.0030289014103727077), (542, 0.003381737125578785), (543, 0.0032144245417264753), (544, 0.0038514548162127717), (545, 0.0), (546, 0.0), (547, 0.003939733079703286), (548, 0.011966610457663755), (549, 0.08782378454406603), (550, 0.0), (551, 0.0), (552, 0.0), (553, 0.0037583892613720802), (554, 0.0), (555, 0.04081891386470904), (556, 0.01547664598759953), (557, 0.0), (558, 0.0), (559, 0.0), (560, 0.0036822448866981653), (561, 0.0), (562, 0.0), (563, 0.0), (564, 0.0), (565, 0.015372922177291025), (566, 0.024634276408267246), (567, 0.11564079963366951), (568, 0.054540902844280745), (569, 0.0), (570, 0.003745560646939), (571, 0.01714600900911657), (572, 0.0), (573, 0.00412318825282031), (574, 0.01540372312704832), (575, 0.0), (576, 0.0), (577, 0.003575996845991774), (578, 0.013895610238508618), (579, 0.0027940167616560783), (580, 0.03562436101451601), (581, 0.003376192378534619), (582, 0.003661047668441154), (583, 0.0), (584, 0.0), (585, 0.0), (586, 0.015517847123687142), (587, 0.003172302246258105), (588, 0.058360700882532576), (589, 0.0037637267574865143), (590, 0.016643074509182593), (591, 0.04968674823547672), (592, 0.0), (593, 0.0), (594, 0.0037780374371528926), (595, 0.003484767632420509), (596, 0.03220217028500421), (597, 0.0037408151822068874), (598, 0.0), (599, 0.0), (600, 0.004496817976919628), (601, 0.004131886618163348), (602, 0.004290566513857198), (603, 0.023315963486867385), (604, 0.0036936644236593135), (605, 0.015726992638574015), (606, 0.0270836713432384), (607, 0.00386590225349483), (608, 0.14274636826738665), (609, 0.0038641550279991358), (610, 0.003666483780378255), (611, 0.0034507769303146417), (612, 0.0), (613, 0.04183725732988689), (614, 0.0), (615, 0.014327450150808342), (616, 0.0), (617, 0.0), (618, 0.00324491485434408), (619, 0.02768204882389957), (620, 0.0), (621, 0.0034725743975847433), (622, 0.0038827775435428626), (623, 0.0), (624, 0.03943841552717658), (625, 0.0), (626, 0.0), (627, 0.002812499276820333), (628, 0.0), (629, 0.013856338545857255), (630, 0.0), (631, 0.0), (632, 0.0), (633, 0.0), (634, 0.0037665870034493025), (635, 0.0), (636, 0.0), (637, 0.0), (638, 0.0), (639, 0.0), (640, 0.0296306852774052), (641, 0.0), (642, 0.0), (643, 0.0034305506044891537), (644, 0.003952373751216269), (645, 0.0038876463034938327), (646, 0.0), (647, 0.030333405238473624), (648, 0.011538958585905416), (649, 0.0), (650, 0.0), (651, 0.0), (652, 0.012182348698098592), (653, 0.0037376015682361215), (654, 0.003859646250192423), (655, 0.004021294063595493), (656, 0.03063941246252259), (657, 0.0038798530690867996), (658, 0.003582717796822201), (659, 0.017248151337352056), (660, 0.004532811841858571), (661, 0.0), (662, 0.0), (663, 0.0), (664, 0.0037577959472424333), (665, 0.014313964222890573), (666, 0.013405889315759173), (667, 0.012644868930203912), (668, 0.0036926762297378067), (669, 0.013445016250981495), (670, 0.01356289932529278), (671, 0.0), (672, 0.013165770647691755), (673, 0.009804488145910378), (674, 0.0049001057677728575), (675, 0.014161344292667397), (676, 0.01643173255559994), (677, 0.003552900485025145), (678, 0.004368612038838256), (679, 0.021794805666876357), (680, 0.015940231716302263), (681, 0.04027554667594124), (682, 0.0), (683, 0.025918630474328318), (684, 0.011313307719923622), (685, 0.003729725534368919), (686, 0.0), (687, 0.003714146658799568), (688, 0.0), (689, 0.03082104436831765), (690, 0.013222442675788145), (691, 0.003175023702689301), (692, 0.0), (693, 0.0), (694, 0.0035766543872384), (695, 0.003380161910024374), (696, 0.014084044234427022), (697, 0.0), (698, 0.0), (699, 0.0), (700, 0.016825272047558636), (701, 0.0), (702, 0.03106829541765123), (703, 0.0), (704, 0.0), (705, 0.0), (706, 0.0), (707, 0.0), (708, 0.00334206737209103), (709, 0.0), (710, 0.0), (711, 0.014384463647457416), (712, 0.03234000217590273), (713, 0.0), (714, 0.013062632157361646), (715, 0.0044087187216032145), (716, 0.01753509554007532), (717, 0.013416361754961366), (718, 0.0029586984085273656), (719, 0.0), (720, 0.0), (721, 0.011647549687520008), (722, 0.0), (723, 0.0), (724, 0.016124464654659658), (725, 0.0), (726, 0.04157024213784838), (727, 0.026203033529446768), (728, 0.003398476490772303)]\n"
          ]
        }
      ]
    },
    {
      "cell_type": "code",
      "source": [
        "sorted_similar_movies = sorted(similarity_score , key = lambda x:x[1] , reverse = True)\n",
        "print(sorted_similar_movies)"
      ],
      "metadata": {
        "colab": {
          "base_uri": "https://localhost:8080/"
        },
        "id": "vNN5jOeM8eYm",
        "outputId": "f8330bf9-fc6c-4202-fa32-5418c0722df1"
      },
      "execution_count": null,
      "outputs": [
        {
          "output_type": "stream",
          "name": "stdout",
          "text": [
            "[(303, 1.0000000000000002), (608, 0.14274636826738665), (567, 0.11564079963366951), (3, 0.10857915651966515), (506, 0.10732624496791915), (468, 0.10228388492449494), (347, 0.10176077759309982), (119, 0.10162227221530877), (65, 0.0973837663301878), (210, 0.09139358299010512), (511, 0.08892941135346556), (440, 0.08869805467511878), (163, 0.08804700125794714), (549, 0.08782378454406603), (428, 0.08694774035499456), (527, 0.086466003114192), (33, 0.08610954740655628), (299, 0.08431251194724101), (72, 0.08400130289375751), (41, 0.08212715168019272), (207, 0.08186442701782316), (46, 0.07979785390486663), (10, 0.07937270392173218), (301, 0.078571724372892), (487, 0.07849459623427417), (203, 0.07512069512623218), (441, 0.07291139038232104), (147, 0.072686514657982), (14, 0.07113630558219275), (9, 0.07062228340021316), (234, 0.07034330421430424), (442, 0.06732745249249097), (237, 0.06698338034616423), (298, 0.06290419143177295), (588, 0.058360700882532576), (568, 0.054540902844280745), (195, 0.0527522061890797), (296, 0.05246385960843419), (381, 0.05081666133099343), (228, 0.05065788623608166), (591, 0.04968674823547672), (87, 0.04795188365319684), (450, 0.04532827704606206), (51, 0.04431913120977058), (310, 0.043807849170283325), (535, 0.043778844640996205), (81, 0.04184041238496477), (613, 0.04183725732988689), (726, 0.04157024213784838), (555, 0.04081891386470904), (38, 0.040447294264047404), (284, 0.04038559161937884), (681, 0.04027554667594124), (624, 0.03943841552717658), (20, 0.03907138200176589), (112, 0.0389681860199309), (438, 0.038934532903099686), (52, 0.038718391816461896), (145, 0.03859572073280952), (140, 0.037854268420287294), (25, 0.03772525238911107), (387, 0.03727123810775729), (411, 0.03720704567226324), (483, 0.036500894642426174), (580, 0.03562436101451601), (139, 0.0355507116744455), (35, 0.03511052607100554), (54, 0.03506623423208756), (146, 0.03424307017368032), (534, 0.033489444919909496), (384, 0.03313815358142521), (473, 0.03281040919550674), (525, 0.03264158784399311), (712, 0.03234000217590273), (596, 0.03220217028500421), (410, 0.03192498792602521), (702, 0.03106829541765123), (4, 0.03103389157385462), (689, 0.03082104436831765), (656, 0.03063941246252259), (121, 0.030542833050495453), (647, 0.030333405238473624), (505, 0.0299751706214803), (40, 0.02968415408299385), (640, 0.0296306852774052), (226, 0.029065817761298206), (285, 0.029014925600438744), (314, 0.028234441629995402), (316, 0.028103283092198582), (388, 0.02785032215279318), (619, 0.02768204882389957), (338, 0.02747327532855395), (100, 0.027261291930368116), (606, 0.0270836713432384), (451, 0.026884584613765264), (156, 0.02665856001631082), (727, 0.026203033529446768), (683, 0.025918630474328318), (363, 0.025453569641850204), (444, 0.02491060928399263), (566, 0.024634276408267246), (350, 0.023585614257640965), (603, 0.023315963486867385), (679, 0.021794805666876357), (85, 0.021561720519074873), (164, 0.020953945926275235), (58, 0.019943768091182604), (290, 0.019248655107981544), (345, 0.018603762837452076), (30, 0.018526868709845695), (433, 0.0184125071567544), (2, 0.01829179043226519), (389, 0.018200079825753647), (512, 0.01794704068870334), (415, 0.017717584575141727), (205, 0.01770800490185753), (334, 0.01768430517659449), (453, 0.01758166807654147), (716, 0.01753509554007532), (457, 0.01752523274313538), (204, 0.017425287081175175), (18, 0.017376796008896647), (356, 0.017284396794902068), (659, 0.017248151337352056), (571, 0.01714600900911657), (370, 0.017068185874962956), (252, 0.017067131179736572), (223, 0.016878739700700345), (700, 0.016825272047558636), (198, 0.01668972436898805), (590, 0.016643074509182593), (403, 0.016597787140332994), (676, 0.01643173255559994), (96, 0.016386229012817888), (273, 0.01632385736546235), (99, 0.01627206336969616), (479, 0.016236671838788238), (724, 0.016124464654659658), (446, 0.016107424704613807), (680, 0.015940231716302263), (500, 0.01573930357936398), (605, 0.015726992638574015), (245, 0.01566407377911754), (37, 0.015551055264816767), (276, 0.015544107568973873), (586, 0.015517847123687142), (556, 0.01547664598759953), (574, 0.01540372312704832), (565, 0.015372922177291025), (200, 0.015371705353020461), (372, 0.015301240392326637), (267, 0.01529477300422544), (105, 0.015055530895977252), (513, 0.014889981809651738), (308, 0.014653988069574683), (11, 0.014570663282828647), (423, 0.014570365379594873), (211, 0.01455692954325277), (305, 0.014514756918771712), (186, 0.014437832174601666), (711, 0.014384463647457416), (615, 0.014327450150808342), (665, 0.014313964222890573), (497, 0.014305721656963276), (66, 0.014224991044292435), (675, 0.014161344292667397), (178, 0.014120545962395781), (696, 0.014084044234427022), (578, 0.013895610238508618), (171, 0.01388594270912878), (629, 0.013856338545857255), (239, 0.013788044541071184), (426, 0.013763089632908098), (32, 0.013683896473326448), (528, 0.013630222527041144), (670, 0.01356289932529278), (406, 0.013500463320961477), (669, 0.013445016250981495), (717, 0.013416361754961366), (666, 0.013405889315759173), (318, 0.013371329248221188), (405, 0.013306621330012841), (690, 0.013222442675788145), (488, 0.01320632381728509), (672, 0.013165770647691755), (714, 0.013062632157361646), (351, 0.01300260469878007), (293, 0.01289398112179716), (494, 0.012893403083706274), (367, 0.012701377666641967), (538, 0.012684416445466216), (484, 0.012676175576138303), (354, 0.012654305144683032), (667, 0.012644868930203912), (421, 0.012524664772887393), (280, 0.012514636001713503), (398, 0.012512875974555662), (414, 0.012444271757934788), (247, 0.012411303475237157), (652, 0.012182348698098592), (328, 0.012081438937914916), (519, 0.012011700267674725), (548, 0.011966610457663755), (281, 0.011867080461995791), (721, 0.011647549687520008), (648, 0.011538958585905416), (684, 0.011313307719923622), (283, 0.010598332231703476), (673, 0.009804488145910378), (377, 0.00957368741081894), (311, 0.007995436562224826), (409, 0.007785055890715384), (674, 0.0049001057677728575), (71, 0.004822510242082328), (166, 0.004643022069398398), (162, 0.004634671821602419), (540, 0.004619839794639939), (660, 0.004532811841858571), (56, 0.004500318744913558), (600, 0.004496817976919628), (47, 0.0044653767299687765), (715, 0.0044087187216032145), (678, 0.004368612038838256), (218, 0.0043667251165151605), (518, 0.004349379251764809), (602, 0.004290566513857198), (437, 0.004283908924036461), (271, 0.004270210587324037), (425, 0.004250388966638474), (447, 0.004249255140699594), (539, 0.004248617713212953), (158, 0.0042353128878443004), (213, 0.004235038832103414), (467, 0.004226323866130724), (131, 0.004222710764897468), (219, 0.004222003710947544), (111, 0.0042195909893595), (362, 0.004208298353395095), (53, 0.004200854598260382), (165, 0.004158807636713674), (242, 0.004156857814525982), (261, 0.0041485605882420245), (107, 0.004139860199711017), (274, 0.0041388486949079945), (44, 0.004135725752698126), (319, 0.004132011809285997), (601, 0.004131886618163348), (573, 0.00412318825282031), (101, 0.004116724869522582), (7, 0.004113846226694305), (129, 0.004111021171394055), (279, 0.004098829967818324), (225, 0.004094070247986554), (339, 0.00409171514333283), (180, 0.0040916984877875364), (48, 0.0040879722706077485), (466, 0.004087533490149466), (330, 0.004084699559138927), (12, 0.004084314408671391), (26, 0.004074788739236216), (122, 0.0040725529833926565), (83, 0.004067351966163679), (193, 0.00406710536535093), (523, 0.00406293823855316), (248, 0.004058595928687176), (127, 0.004044823143598181), (322, 0.004041154799229802), (215, 0.004040649949835663), (102, 0.004037821620979289), (188, 0.0040350290699410025), (655, 0.004021294063595493), (183, 0.004017344579764526), (82, 0.004013129917712974), (157, 0.00400147980488389), (29, 0.003986835265508587), (297, 0.003986042045674212), (74, 0.003977543307383617), (16, 0.003976831211504625), (262, 0.0039690868421754), (386, 0.003965850387926883), (43, 0.003963774820505594), (103, 0.00396204091134234), (508, 0.00396010844709527), (644, 0.003952373751216269), (104, 0.003946816289173052), (167, 0.003945906495149934), (62, 0.003944538002113901), (530, 0.0039424341778673735), (547, 0.003939733079703286), (196, 0.0039390773289574126), (108, 0.003934135964648363), (55, 0.003915320623554325), (222, 0.003912651477425307), (320, 0.0039116692726072905), (169, 0.0039061276892586195), (476, 0.003905023846923955), (229, 0.003900899392802023), (329, 0.00389988006377855), (355, 0.0038985637394657094), (645, 0.0038876463034938327), (396, 0.003887014227414916), (622, 0.0038827775435428626), (657, 0.0038798530690867996), (394, 0.003868570703291925), (28, 0.003867105258227064), (607, 0.00386590225349483), (5, 0.003865726865823218), (609, 0.0038641550279991358), (654, 0.003859646250192423), (335, 0.0038555541735574494), (160, 0.0038530441779100573), (544, 0.0038514548162127717), (31, 0.0038504900671854523), (36, 0.0038439313804885644), (61, 0.0038420244564090094), (149, 0.003839910852740525), (537, 0.0038350367598798344), (480, 0.003831066937129171), (151, 0.003829410529851434), (486, 0.0038283702668878254), (182, 0.0038268135418705273), (257, 0.0038266895540219584), (98, 0.003825700195513028), (93, 0.0038246507997562926), (209, 0.00381491963475892), (76, 0.0038135569359114365), (94, 0.003813030562151614), (168, 0.0038084716063695057), (126, 0.003806146124743067), (236, 0.0038049213321217448), (208, 0.0038027049734201787), (286, 0.0037933610880302917), (495, 0.0037930124070170777), (260, 0.0037889405914708885), (0, 0.003786749318692379), (361, 0.0037844778759603334), (227, 0.0037814938494634266), (206, 0.0037806997420934273), (594, 0.0037780374371528926), (266, 0.0037733353273459187), (240, 0.0037714952608148113), (634, 0.0037665870034493025), (589, 0.0037637267574865143), (277, 0.003762358952600196), (212, 0.0037604424203054074), (553, 0.0037583892613720802), (664, 0.0037577959472424333), (75, 0.003755724578867039), (50, 0.003755090848096596), (138, 0.0037509270831038136), (424, 0.0037464873231029634), (570, 0.003745560646939), (597, 0.0037408151822068874), (91, 0.0037403021420176277), (653, 0.0037376015682361215), (432, 0.0037347105732556713), (685, 0.003729725534368919), (216, 0.00372897691034665), (17, 0.003727887165471395), (70, 0.0037266799087355873), (408, 0.0037246667140058845), (478, 0.0037193677546612848), (687, 0.003714146658799568), (59, 0.003712142166325684), (455, 0.0037104204530687794), (134, 0.0037100725468006118), (150, 0.003702417997556089), (241, 0.0036942274949856536), (604, 0.0036936644236593135), (668, 0.0036926762297378067), (243, 0.0036890878576633017), (507, 0.0036883937461570445), (560, 0.0036822448866981653), (490, 0.0036768376342251573), (376, 0.003675073299766878), (510, 0.003670144792625004), (224, 0.0036688072433126917), (610, 0.003666483780378255), (148, 0.0036661066569946567), (152, 0.0036611286749388574), (582, 0.003661047668441154), (307, 0.003655731201990927), (88, 0.0036546317904840174), (39, 0.003652142003525066), (402, 0.0036485191025169296), (68, 0.003646933136400463), (153, 0.0036450603433147294), (263, 0.0036434535147700222), (123, 0.003638953710481374), (304, 0.0036271262073634294), (472, 0.003624017703864424), (125, 0.0036205957576615775), (27, 0.003594094390761118), (275, 0.003592049919382571), (187, 0.0035848987720768963), (412, 0.0035840055561206104), (658, 0.003582717796822201), (238, 0.0035792674933422413), (694, 0.0035766543872384), (577, 0.003575996845991774), (232, 0.0035699649401513107), (291, 0.0035691472619650082), (295, 0.0035657113346011554), (383, 0.0035621439761595007), (79, 0.003560072668100225), (677, 0.003552900485025145), (115, 0.0035506137218028447), (531, 0.0035300962316017147), (45, 0.00351871035532773), (246, 0.0035174113747251353), (456, 0.0035120836151817133), (469, 0.0035116727153396746), (19, 0.0035086153429607267), (342, 0.003485778055665175), (595, 0.003484767632420509), (621, 0.0034725743975847433), (199, 0.003469171581478904), (13, 0.003457469820742283), (217, 0.003454326492576078), (392, 0.003453488100519188), (174, 0.0034515410441850504), (611, 0.0034507769303146417), (159, 0.003444138861285665), (491, 0.0034343804417102425), (643, 0.0034305506044891537), (529, 0.0034262863087001784), (259, 0.003418212974495076), (312, 0.003405817970311767), (379, 0.0034057415077712572), (728, 0.003398476490772303), (116, 0.0033974497641882317), (400, 0.0033879946395006704), (542, 0.003381737125578785), (695, 0.003380161910024374), (581, 0.003376192378534619), (282, 0.0033711404415670363), (503, 0.0033696275500280787), (449, 0.0033639793387387337), (278, 0.0033639093372403004), (1, 0.0033614531063075504), (708, 0.00334206737209103), (21, 0.003304184215591979), (315, 0.003286493288216634), (253, 0.003270083282757267), (244, 0.003256350997630373), (332, 0.0032503408085803424), (97, 0.0032483094440985518), (24, 0.0032473391838204906), (369, 0.003246215969065512), (618, 0.00324491485434408), (300, 0.003239128473185479), (366, 0.0032240380479843234), (543, 0.0032144245417264753), (292, 0.0032018864544463084), (344, 0.0031915383978587957), (170, 0.0031892119532804823), (230, 0.0031787896394899922), (84, 0.003175714236450337), (691, 0.003175023702689301), (587, 0.003172302246258105), (233, 0.0031233650876560364), (475, 0.003092116955714489), (340, 0.0030542408649610435), (541, 0.0030289014103727077), (353, 0.0029641820676920973), (718, 0.0029586984085273656), (371, 0.002928247225023849), (627, 0.002812499276820333), (579, 0.0027940167616560783), (337, 0.00262270548247352), (6, 0.0), (8, 0.0), (15, 0.0), (22, 0.0), (23, 0.0), (34, 0.0), (42, 0.0), (49, 0.0), (57, 0.0), (60, 0.0), (63, 0.0), (64, 0.0), (67, 0.0), (69, 0.0), (73, 0.0), (77, 0.0), (78, 0.0), (80, 0.0), (86, 0.0), (89, 0.0), (90, 0.0), (92, 0.0), (95, 0.0), (106, 0.0), (109, 0.0), (110, 0.0), (113, 0.0), (114, 0.0), (117, 0.0), (118, 0.0), (120, 0.0), (124, 0.0), (128, 0.0), (130, 0.0), (132, 0.0), (133, 0.0), (135, 0.0), (136, 0.0), (137, 0.0), (141, 0.0), (142, 0.0), (143, 0.0), (144, 0.0), (154, 0.0), (155, 0.0), (161, 0.0), (172, 0.0), (173, 0.0), (175, 0.0), (176, 0.0), (177, 0.0), (179, 0.0), (181, 0.0), (184, 0.0), (185, 0.0), (189, 0.0), (190, 0.0), (191, 0.0), (192, 0.0), (194, 0.0), (197, 0.0), (201, 0.0), (202, 0.0), (214, 0.0), (220, 0.0), (221, 0.0), (231, 0.0), (235, 0.0), (249, 0.0), (250, 0.0), (251, 0.0), (254, 0.0), (255, 0.0), (256, 0.0), (258, 0.0), (264, 0.0), (265, 0.0), (268, 0.0), (269, 0.0), (270, 0.0), (272, 0.0), (287, 0.0), (288, 0.0), (289, 0.0), (294, 0.0), (302, 0.0), (306, 0.0), (309, 0.0), (313, 0.0), (317, 0.0), (321, 0.0), (323, 0.0), (324, 0.0), (325, 0.0), (326, 0.0), (327, 0.0), (331, 0.0), (333, 0.0), (336, 0.0), (341, 0.0), (343, 0.0), (346, 0.0), (348, 0.0), (349, 0.0), (352, 0.0), (357, 0.0), (358, 0.0), (359, 0.0), (360, 0.0), (364, 0.0), (365, 0.0), (368, 0.0), (373, 0.0), (374, 0.0), (375, 0.0), (378, 0.0), (380, 0.0), (382, 0.0), (385, 0.0), (390, 0.0), (391, 0.0), (393, 0.0), (395, 0.0), (397, 0.0), (399, 0.0), (401, 0.0), (404, 0.0), (407, 0.0), (413, 0.0), (416, 0.0), (417, 0.0), (418, 0.0), (419, 0.0), (420, 0.0), (422, 0.0), (427, 0.0), (429, 0.0), (430, 0.0), (431, 0.0), (434, 0.0), (435, 0.0), (436, 0.0), (439, 0.0), (443, 0.0), (445, 0.0), (448, 0.0), (452, 0.0), (454, 0.0), (458, 0.0), (459, 0.0), (460, 0.0), (461, 0.0), (462, 0.0), (463, 0.0), (464, 0.0), (465, 0.0), (470, 0.0), (471, 0.0), (474, 0.0), (477, 0.0), (481, 0.0), (482, 0.0), (485, 0.0), (489, 0.0), (492, 0.0), (493, 0.0), (496, 0.0), (498, 0.0), (499, 0.0), (501, 0.0), (502, 0.0), (504, 0.0), (509, 0.0), (514, 0.0), (515, 0.0), (516, 0.0), (517, 0.0), (520, 0.0), (521, 0.0), (522, 0.0), (524, 0.0), (526, 0.0), (532, 0.0), (533, 0.0), (536, 0.0), (545, 0.0), (546, 0.0), (550, 0.0), (551, 0.0), (552, 0.0), (554, 0.0), (557, 0.0), (558, 0.0), (559, 0.0), (561, 0.0), (562, 0.0), (563, 0.0), (564, 0.0), (569, 0.0), (572, 0.0), (575, 0.0), (576, 0.0), (583, 0.0), (584, 0.0), (585, 0.0), (592, 0.0), (593, 0.0), (598, 0.0), (599, 0.0), (612, 0.0), (614, 0.0), (616, 0.0), (617, 0.0), (620, 0.0), (623, 0.0), (625, 0.0), (626, 0.0), (628, 0.0), (630, 0.0), (631, 0.0), (632, 0.0), (633, 0.0), (635, 0.0), (636, 0.0), (637, 0.0), (638, 0.0), (639, 0.0), (641, 0.0), (642, 0.0), (646, 0.0), (649, 0.0), (650, 0.0), (651, 0.0), (661, 0.0), (662, 0.0), (663, 0.0), (671, 0.0), (682, 0.0), (686, 0.0), (688, 0.0), (692, 0.0), (693, 0.0), (697, 0.0), (698, 0.0), (699, 0.0), (701, 0.0), (703, 0.0), (704, 0.0), (705, 0.0), (706, 0.0), (707, 0.0), (709, 0.0), (710, 0.0), (713, 0.0), (719, 0.0), (720, 0.0), (722, 0.0), (723, 0.0), (725, 0.0)]\n"
          ]
        }
      ]
    },
    {
      "cell_type": "code",
      "source": [
        "print('Movies suggested for you: \\n')\n",
        "i = 1\n",
        "for movie in sorted_similar_movies:\n",
        "  index = movie[0]\n",
        "  title_from_index = movies_data.iloc[index]['title']\n",
        "  if (i<5):\n",
        "    print(i , '.' , title_from_index)\n",
        "    i+=1"
      ],
      "metadata": {
        "colab": {
          "base_uri": "https://localhost:8080/"
        },
        "id": "2N8P0FG69edP",
        "outputId": "c2a8abd5-0e77-493f-d343-1ac26e0bcf80"
      },
      "execution_count": null,
      "outputs": [
        {
          "output_type": "stream",
          "name": "stdout",
          "text": [
            "Movies suggested for you: \n",
            "\n",
            "1 . Catwoman\n",
            "2 . Basic Instinct 2\n",
            "3 . Runaway Bride\n",
            "4 . The Dark Knight Rises\n"
          ]
        }
      ]
    },
    {
      "cell_type": "code",
      "source": [],
      "metadata": {
        "id": "vPMW0SpR_zKh"
      },
      "execution_count": null,
      "outputs": []
    }
  ]
}